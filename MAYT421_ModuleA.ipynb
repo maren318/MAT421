{
  "nbformat": 4,
  "nbformat_minor": 0,
  "metadata": {
    "colab": {
      "provenance": [],
      "authorship_tag": "ABX9TyOllMXUXUZTwkcAXEutwLSb",
      "include_colab_link": true
    },
    "kernelspec": {
      "name": "python3",
      "display_name": "Python 3"
    },
    "language_info": {
      "name": "python"
    }
  },
  "cells": [
    {
      "cell_type": "markdown",
      "metadata": {
        "id": "view-in-github",
        "colab_type": "text"
      },
      "source": [
        "<a href=\"https://colab.research.google.com/github/maren318/MAT421/blob/main/MAYT421_ModuleA.ipynb\" target=\"_parent\"><img src=\"https://colab.research.google.com/assets/colab-badge.svg\" alt=\"Open In Colab\"/></a>"
      ]
    },
    {
      "cell_type": "markdown",
      "source": [
        "##Base-N and Binary"
      ],
      "metadata": {
        "id": "YEifOhwXEDNu"
      }
    },
    {
      "cell_type": "code",
      "execution_count": null,
      "metadata": {
        "id": "uy86otbJDWzP"
      },
      "outputs": [],
      "source": [
        "##Base-N and Binary"
      ]
    },
    {
      "cell_type": "code",
      "source": [
        "def convert_base_with_steps(number, from_base, to_base):\n",
        "    \"\"\"\n",
        "    Convert a number from one base to another and explain the process.\n",
        "\n",
        "    Args:\n",
        "    number (str): The number to convert, as a string to support bases higher than 10.\n",
        "    from_base (int): The base of the provided number.\n",
        "    to_base (int): The base to convert the number to.\n",
        "\n",
        "    Returns:\n",
        "    tuple: The converted number and a string explaining the steps.\n",
        "    \"\"\"\n",
        "    explanation = []\n",
        "\n",
        "    # Convert from the original base to base 10\n",
        "    if from_base != 10:\n",
        "        number_in_base10 = 0\n",
        "        for i, digit in enumerate(reversed(number)):\n",
        "            if '0' <= digit <= '9':\n",
        "                val = int(digit)\n",
        "            else:\n",
        "                val = ord(digit.upper()) - ord('A') + 10\n",
        "            number_in_base10 += val * (from_base ** i)\n",
        "            explanation.append(f\"{digit}*{from_base}^{i}\")\n",
        "        explanation_str = ' + '.join(reversed(explanation)) + f\" = {number_in_base10}\"\n",
        "    else:\n",
        "        number_in_base10 = int(number)\n",
        "        explanation_str = number\n",
        "\n",
        "    # Special case for base 10 conversion\n",
        "    if to_base == 10:\n",
        "        return str(number_in_base10), explanation_str\n",
        "\n",
        "    # Convert from base 10 to the desired base\n",
        "    result = ''\n",
        "    original_number = number_in_base10\n",
        "    while number_in_base10 > 0:\n",
        "        digit = number_in_base10 % to_base\n",
        "        if digit < 10:\n",
        "            result = str(digit) + result\n",
        "        else:\n",
        "            # For bases higher than 10, use letters\n",
        "            result = chr(ord('A') + digit - 10) + result\n",
        "        number_in_base10 //= to_base\n",
        "\n",
        "    return result if result else '0', f\"{original_number} in base {to_base} is {result}. Conversion process: {explanation_str}\""
      ],
      "metadata": {
        "id": "iZUkZnZpJsXP"
      },
      "execution_count": null,
      "outputs": []
    },
    {
      "cell_type": "code",
      "source": [
        "#convert 10110(base2) to base10\n",
        "result, steps = convert_base_with_steps('10110', 2, 10)\n",
        "print(steps)"
      ],
      "metadata": {
        "colab": {
          "base_uri": "https://localhost:8080/"
        },
        "id": "GiPSV8ZHJvfg",
        "outputId": "848c06d0-4f3b-4b62-d83c-e30b6dc93b31"
      },
      "execution_count": null,
      "outputs": [
        {
          "output_type": "stream",
          "name": "stdout",
          "text": [
            "1*2^4 + 0*2^3 + 1*2^2 + 1*2^1 + 0*2^0 = 22\n"
          ]
        }
      ]
    },
    {
      "cell_type": "code",
      "source": [
        "#convert 10110(base16) to base10\n",
        "result, steps = convert_base_with_steps('10110', 16, 10)\n",
        "print(steps)"
      ],
      "metadata": {
        "colab": {
          "base_uri": "https://localhost:8080/"
        },
        "id": "vk3rtjkdKur8",
        "outputId": "bc897410-0a64-4de5-e97a-51c57d5bf2e7"
      },
      "execution_count": null,
      "outputs": [
        {
          "output_type": "stream",
          "name": "stdout",
          "text": [
            "1*16^4 + 0*16^3 + 1*16^2 + 1*16^1 + 0*16^0 = 65808\n"
          ]
        }
      ]
    },
    {
      "cell_type": "code",
      "source": [
        "##Add two binary numbers.\n",
        "def binary_addition(bin1, bin2):\n",
        "    # Convert binary strings to integers\n",
        "    num1 = int(bin1, 2)\n",
        "    num2 = int(bin2, 2)\n",
        "    # Add the numbers\n",
        "    sum = num1 + num2\n",
        "    # Convert the sum back to binary\n",
        "    return bin(sum)[2:]\n",
        "\n",
        "##binary multiplication\n",
        "def binary_multiplication(bin1, bin2):\n",
        "    # Convert binary strings to integers\n",
        "    num1 = int(bin1, 2)\n",
        "    num2 = int(bin2, 2)\n",
        "    # Multiply the numbers\n",
        "    product = num1 * num2\n",
        "    # Convert the product back to binary\n",
        "    return bin(product)[2:]\n"
      ],
      "metadata": {
        "id": "l9BLa_k2MopH"
      },
      "execution_count": null,
      "outputs": []
    },
    {
      "cell_type": "code",
      "source": [
        "# convert 17 to binary\n",
        "result1, steps1 = convert_base_with_steps('17', 10, 2)\n",
        "print(int(result1)) # trans str to int\n",
        "# convert 13 to binary\n",
        "result2, steps2 = convert_base_with_steps('13', 10, 2)\n",
        "print(int(result2)) # trans str to int\n",
        "#17 + 13 = 30\n",
        "result3 = binary_addition(result1, result2) # binary add operation\n",
        "print(int(result3))\n",
        "\n",
        "# convert binary to base10\n",
        "result5, step5 = convert_base_with_steps(result3, 2, 10)\n",
        "print(int(result5)) # trans str to int\n",
        "print(int(result5) == 30)\n",
        "\n",
        "# 17 * 13 = 221\n",
        "result4 = binary_multiplication(result1, result2) # binary add operation\n",
        "print(int(result4))\n",
        "\n",
        "# convert binary to base10\n",
        "result6, step6 = convert_base_with_steps(result4, 2, 10)\n",
        "print(int(result6)) # trans str to int\n",
        "print(int(result6) == 221)"
      ],
      "metadata": {
        "colab": {
          "base_uri": "https://localhost:8080/"
        },
        "id": "iu35gchLLIZr",
        "outputId": "303dbd14-46c9-44ec-e00d-d8d599f43490"
      },
      "execution_count": null,
      "outputs": [
        {
          "output_type": "stream",
          "name": "stdout",
          "text": [
            "10001\n",
            "1101\n",
            "11110\n",
            "30\n",
            "True\n",
            "11011101\n",
            "221\n",
            "True\n"
          ]
        }
      ]
    },
    {
      "cell_type": "markdown",
      "source": [
        "##Floating Point Numbers"
      ],
      "metadata": {
        "id": "aWS9JOCsEGPT"
      }
    },
    {
      "cell_type": "code",
      "source": [
        "##Floating Point Numbers"
      ],
      "metadata": {
        "id": "fOYjyHXDEKL1"
      },
      "execution_count": null,
      "outputs": []
    },
    {
      "cell_type": "markdown",
      "source": [
        "Numbers Floating in Space Due to the fact that computers typically have a limited number of bits, it might become inefficient to express some quantities in binary and perform meaningful computations. In certain situations, numbers that are larger than the allotted bits can be represented with the help of floating point numbers. Floats employ 64 bits, which are separated into three categories: fraction, exponent, and sign indication. 52 bits to the fraction, 11 bits to the exponent, and 1 bit to the sign indication. We examine floating below.\n",
        "\n",
        "The gap is the amount of space that separates one number from the next. We shall confirm that the number that results from adding a number to any number that has a gap of less than half at that number is the same number."
      ],
      "metadata": {
        "id": "c4q_JxhYPnTb"
      }
    },
    {
      "cell_type": "markdown",
      "source": [
        "n =(-1)^s2^(e-1023)(1+f)"
      ],
      "metadata": {
        "id": "RTAd7XkXO1zl"
      }
    },
    {
      "cell_type": "code",
      "source": [
        "import sys\n",
        "sys.float_info"
      ],
      "metadata": {
        "colab": {
          "base_uri": "https://localhost:8080/"
        },
        "id": "q3eLlxctOLEi",
        "outputId": "83719b66-6545-4214-9aac-84a8cee3f67b"
      },
      "execution_count": null,
      "outputs": [
        {
          "output_type": "execute_result",
          "data": {
            "text/plain": [
              "sys.float_info(max=1.7976931348623157e+308, max_exp=1024, max_10_exp=308, min=2.2250738585072014e-308, min_exp=-1021, min_10_exp=-307, dig=15, mant_dig=53, epsilon=2.220446049250313e-16, radix=2, rounds=1)"
            ]
          },
          "metadata": {},
          "execution_count": 48
        }
      ]
    },
    {
      "cell_type": "code",
      "source": [
        "import numpy as np\n",
        "np.spacing(1e7) #gives the gap at 1e8"
      ],
      "metadata": {
        "colab": {
          "base_uri": "https://localhost:8080/"
        },
        "id": "L6jr_9FwOvjW",
        "outputId": "3075f422-9c6f-4314-fb13-1d7a11aefa28"
      },
      "execution_count": null,
      "outputs": [
        {
          "output_type": "execute_result",
          "data": {
            "text/plain": [
              "1.862645149230957e-09"
            ]
          },
          "metadata": {},
          "execution_count": 53
        }
      ]
    },
    {
      "cell_type": "code",
      "source": [
        "1e7 == (1e7 + np.spacing(1e7)/3) #verify that adding less than half the gap will result in the same number"
      ],
      "metadata": {
        "colab": {
          "base_uri": "https://localhost:8080/"
        },
        "id": "MDhBXHfYQGyk",
        "outputId": "f72f1fef-937d-47aa-ea94-4c72e0d187d7"
      },
      "execution_count": null,
      "outputs": [
        {
          "output_type": "execute_result",
          "data": {
            "text/plain": [
              "True"
            ]
          },
          "metadata": {},
          "execution_count": 55
        }
      ]
    },
    {
      "cell_type": "code",
      "source": [
        "#overflow\n",
        "sys.float_info.max + sys.float_info.max"
      ],
      "metadata": {
        "colab": {
          "base_uri": "https://localhost:8080/"
        },
        "id": "aOjGvneSPtgV",
        "outputId": "718a59b0-a182-4fd6-f243-fa02f2b35c33"
      },
      "execution_count": null,
      "outputs": [
        {
          "output_type": "execute_result",
          "data": {
            "text/plain": [
              "inf"
            ]
          },
          "metadata": {},
          "execution_count": 50
        }
      ]
    },
    {
      "cell_type": "code",
      "source": [
        "#underflow\n",
        "print(2**-1074) #lower limit befor underflow\n",
        "print(2**-1075) #Show that 2^(−1075) underflows to 0.0"
      ],
      "metadata": {
        "colab": {
          "base_uri": "https://localhost:8080/"
        },
        "id": "FjdJm1y5P8yK",
        "outputId": "d2218ad3-45a8-4925-ff14-e99e16506a25"
      },
      "execution_count": null,
      "outputs": [
        {
          "output_type": "stream",
          "name": "stdout",
          "text": [
            "5e-324\n",
            "0.0\n"
          ]
        }
      ]
    },
    {
      "cell_type": "markdown",
      "source": [
        "##Round-off Errors"
      ],
      "metadata": {
        "id": "qCHp5K2wELgK"
      }
    },
    {
      "cell_type": "code",
      "source": [
        "##Round-off Errors\n",
        "##4 - 3.89 is not equal to 0.11\n",
        "4 - 3.89 == 0.11"
      ],
      "metadata": {
        "colab": {
          "base_uri": "https://localhost:8080/"
        },
        "id": "ND64oTtQEPFI",
        "outputId": "f4924f4b-ed36-44a1-c2a3-e4d36552c279"
      },
      "execution_count": null,
      "outputs": [
        {
          "output_type": "execute_result",
          "data": {
            "text/plain": [
              "False"
            ]
          },
          "metadata": {},
          "execution_count": 2
        }
      ]
    },
    {
      "cell_type": "code",
      "source": [
        "##in arithmetic\n",
        "4 - 3.89"
      ],
      "metadata": {
        "colab": {
          "base_uri": "https://localhost:8080/"
        },
        "id": "KgBP46mnFK8l",
        "outputId": "5a7a8b2f-3a89-4212-82cd-a8eae648ed85"
      },
      "execution_count": null,
      "outputs": [
        {
          "output_type": "execute_result",
          "data": {
            "text/plain": [
              "0.10999999999999988"
            ]
          },
          "metadata": {},
          "execution_count": 3
        }
      ]
    },
    {
      "cell_type": "code",
      "source": [
        "##round in 5 digits\n",
        "round(4 - 3.89, 5)  == round(0.11, 5)"
      ],
      "metadata": {
        "colab": {
          "base_uri": "https://localhost:8080/"
        },
        "id": "3iXaPDBVFgDg",
        "outputId": "7adf72a8-a1b2-4041-d01f-3f034295564c"
      },
      "execution_count": null,
      "outputs": [
        {
          "output_type": "execute_result",
          "data": {
            "text/plain": [
              "True"
            ]
          },
          "metadata": {},
          "execution_count": 4
        }
      ]
    },
    {
      "cell_type": "code",
      "source": [
        "##even like multiplication\n",
        "1.1 * 6"
      ],
      "metadata": {
        "colab": {
          "base_uri": "https://localhost:8080/"
        },
        "id": "MUwpQoJ_GkTW",
        "outputId": "75b163ff-db28-4209-e9fd-97ac10e7015e"
      },
      "execution_count": null,
      "outputs": [
        {
          "output_type": "execute_result",
          "data": {
            "text/plain": [
              "6.6000000000000005"
            ]
          },
          "metadata": {},
          "execution_count": 6
        }
      ]
    },
    {
      "cell_type": "markdown",
      "source": [
        "The accumulation of round-off error occurs when we do a series of calculations on an initial input that has been rounded off.\n",
        "\n"
      ],
      "metadata": {
        "id": "sJE92ZIbGBBm"
      }
    },
    {
      "cell_type": "code",
      "source": [
        "##If we only do twice\n",
        "1 - 4/7 + 4/7 - 4/7 + 4/7"
      ],
      "metadata": {
        "colab": {
          "base_uri": "https://localhost:8080/"
        },
        "id": "jNx7lIyxFxef",
        "outputId": "69342b58-c4fc-4a65-8619-cbd3c1e71d3d"
      },
      "execution_count": null,
      "outputs": [
        {
          "output_type": "execute_result",
          "data": {
            "text/plain": [
              "1.0"
            ]
          },
          "metadata": {},
          "execution_count": 7
        }
      ]
    },
    {
      "cell_type": "code",
      "source": [
        "##Let's make a function to do it many times\n",
        "def add_and_subtract(iterations):\n",
        "    result = 1\n",
        "\n",
        "    for i in range(iterations):\n",
        "        result += 4/7\n",
        "    for i in range(iterations):\n",
        "        result -= 4/7\n",
        "\n",
        "    return result\n"
      ],
      "metadata": {
        "id": "Wh42yHPqG7W8"
      },
      "execution_count": null,
      "outputs": []
    },
    {
      "cell_type": "code",
      "source": [
        "##If we do this 1000 times\n",
        "add_and_subtract(1000)"
      ],
      "metadata": {
        "colab": {
          "base_uri": "https://localhost:8080/"
        },
        "id": "GPFj4uh4H8k8",
        "outputId": "3cc21385-54ca-488d-acaf-b5e695bd6295"
      },
      "execution_count": null,
      "outputs": [
        {
          "output_type": "execute_result",
          "data": {
            "text/plain": [
              "0.99999999999998"
            ]
          },
          "metadata": {},
          "execution_count": 13
        }
      ]
    },
    {
      "cell_type": "code",
      "source": [
        "##If we do this 1000000 times\n",
        "add_and_subtract(1000000)"
      ],
      "metadata": {
        "colab": {
          "base_uri": "https://localhost:8080/"
        },
        "id": "R9wUDl0QHVmC",
        "outputId": "65ef3b3c-0dc6-424b-8805-043cced7c8a3"
      },
      "execution_count": null,
      "outputs": [
        {
          "output_type": "execute_result",
          "data": {
            "text/plain": [
              "1.0000000000277196"
            ]
          },
          "metadata": {},
          "execution_count": 12
        }
      ]
    },
    {
      "cell_type": "code",
      "source": [
        "'''\n",
        "##And one interesting thing is if you do add operation and subtract operation in the same for loop\n",
        "##you will miss Round-off Errors\n",
        "'''\n",
        "def add_subtract(iterations):\n",
        "    result = 1\n",
        "\n",
        "    for i in range(iterations):\n",
        "        result += 4/7\n",
        "        result -= 4/7\n",
        "\n",
        "    return result\n",
        "add_subtract(1000000)"
      ],
      "metadata": {
        "colab": {
          "base_uri": "https://localhost:8080/"
        },
        "id": "dMxbCzJyIFQS",
        "outputId": "6d301bd0-1b62-45db-d2b6-1100403aa3a0"
      },
      "execution_count": null,
      "outputs": [
        {
          "output_type": "execute_result",
          "data": {
            "text/plain": [
              "1.0"
            ]
          },
          "metadata": {},
          "execution_count": 14
        }
      ]
    }
  ]
}