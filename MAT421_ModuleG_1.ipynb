{
  "nbformat": 4,
  "nbformat_minor": 0,
  "metadata": {
    "colab": {
      "provenance": [],
      "authorship_tag": "ABX9TyObL+jKepj6vpAKbuE+uaPt",
      "include_colab_link": true
    },
    "kernelspec": {
      "name": "python3",
      "display_name": "Python 3"
    },
    "language_info": {
      "name": "python"
    }
  },
  "cells": [
    {
      "cell_type": "markdown",
      "metadata": {
        "id": "view-in-github",
        "colab_type": "text"
      },
      "source": [
        "<a href=\"https://colab.research.google.com/github/maren318/MAT421_Fenglin/blob/main/MAT421_ModuleG_1.ipynb\" target=\"_parent\"><img src=\"https://colab.research.google.com/assets/colab-badge.svg\" alt=\"Open In Colab\"/></a>"
      ]
    },
    {
      "cell_type": "markdown",
      "source": [
        "\n",
        "### Numerical Integration Problem Statement"
      ],
      "metadata": {
        "id": "IykYpPhLBumJ"
      }
    },
    {
      "cell_type": "markdown",
      "source": [
        "a function $f(x)$ across a defined interval $[a,b]$. To achieve this, the interval is divided into a numerical grid of $n+1$ points, separated by a distance $h=\\frac{b-a}{n}$, creating subintervals between each pair of points. The task involves approximating the area under the curve $f(x)$ for each subinterval by using shapes whose areas can be easily calculated, and then summing up these individual areas to approximate the total integral $\\int_{a}^{b} f(x) dx$. The approach assumes that the function $f(x)$ can be evaluated at any point on the grid or is given in terms of $f(x_i)$ for the grid points.The interval $[x_i,x_{i+1}]$ is referred to as a subinterval."
      ],
      "metadata": {
        "id": "miIm7MSJBves"
      }
    },
    {
      "cell_type": "markdown",
      "source": [
        "### Riemanns Integral"
      ],
      "metadata": {
        "id": "jGz7aIDXFIr0"
      }
    },
    {
      "cell_type": "markdown",
      "source": [
        "Riemann Integral as a basic technique for approximating integrals, where the integral of a function $f(x)$ over an interval $[a,b]$ is approximated by summing the areas of rectangles within each subinterval of the partition. The width of each rectangle is $h$(the distance between consecutive points $x_i$ and $x_{i+1}$), and the height is determined by the function value at a specific point within the subinterval, typically the left or right endpoint. This method yields two formulas for the Riemann Integral approximation, depending on whether the left or right endpoint is used for the height of the rectangles.\n",
        "\n",
        "the improvement of accuracy as the width $h$ decreases and employs the Taylor series to express the function $f(x)$ for a more precise approximation. It concludes that the error in the Riemann Integral approximation is $O(h^2)$ for a single subinterval, and when summed over the entire interval, the total error is $O(h)$, indicating that the accuracy of the approximation improves linearly with smaller h.\n",
        "\n",
        "the Midpoint Rule is introduced as an alternative that uses the midpoint of each subinterval to determine the height of the rectangles, leading to an $O(h^3)$ accuracy for a single subinterval and $O(h^2)$ over the entire interval. This method is noted for providing higher accuracy without additional computational effort compared to the basic Riemann approach."
      ],
      "metadata": {
        "id": "gp523iQ5FJ5_"
      }
    },
    {
      "cell_type": "markdown",
      "source": [
        "the function $f(x)=sin(x)$ over the interval $[0,π]$ using three different methods: the Left Riemann Sum, the Right Riemann Sum, and the Midpoint Rule. Each method uses 11 evenly spaced grid points to approximate the integral. The exact value of the integral in this case is 2, as the area under one full sine wave from 0 to π equals 2."
      ],
      "metadata": {
        "id": "8DKpuvy-GLZq"
      }
    },
    {
      "cell_type": "code",
      "source": [
        "import numpy as np\n",
        "\n",
        "# Define the integration bounds and function\n",
        "a = 0\n",
        "b = np.pi\n",
        "f = lambda x: np.sin(x)\n",
        "\n",
        "# Number of points and step size\n",
        "n = 11\n",
        "h = (b - a) / (n - 1)\n",
        "x = np.linspace(a, b, n)\n",
        "\n",
        "# Left Riemann Sum\n",
        "left_riemann_sum = h * np.sum(f(x[:-1]))\n",
        "\n",
        "# Right Riemann Sum\n",
        "right_riemann_sum = h * np.sum(f(x[1:]))\n",
        "\n",
        "# Midpoint Rule\n",
        "midpoints = (x[:-1] + x[1:]) / 2\n",
        "midpoint_rule_sum = h * np.sum(f(midpoints))\n",
        "\n",
        "# Exact Integral Value\n",
        "exact_value = 2  # Since the integral of sin(x) from 0 to pi is 2\n",
        "\n",
        "# Display the results\n",
        "print(f\"Left Riemann Sum Approximation: {left_riemann_sum}\")\n",
        "print(f\"Right Riemann Sum Approximation: {right_riemann_sum}\")\n",
        "print(f\"Midpoint Rule Approximation: {midpoint_rule_sum}\")\n",
        "print(f\"Exact Integral Value: {exact_value}\")\n",
        "\n",
        "# Calculate errors\n",
        "error_left = np.abs(exact_value - left_riemann_sum)\n",
        "error_right = np.abs(exact_value - right_riemann_sum)\n",
        "error_mid = np.abs(exact_value - midpoint_rule_sum)\n",
        "\n",
        "# Display errors\n",
        "print(f\"\\nError in Left Riemann Sum: {error_left}\")\n",
        "print(f\"Error in Right Riemann Sum: {error_right}\")\n",
        "print(f\"Error in Midpoint Rule: {error_mid}\")\n",
        "\n"
      ],
      "metadata": {
        "colab": {
          "base_uri": "https://localhost:8080/"
        },
        "id": "D5LQO_Q1GCw5",
        "outputId": "02dcff85-98c7-42bb-c8af-dddaaea3bb54"
      },
      "execution_count": null,
      "outputs": [
        {
          "output_type": "stream",
          "name": "stdout",
          "text": [
            "Left Riemann Sum Approximation: 1.9835235375094546\n",
            "Right Riemann Sum Approximation: 1.9835235375094546\n",
            "Midpoint Rule Approximation: 2.008248407907974\n",
            "Exact Integral Value: 2\n",
            "\n",
            "Error in Left Riemann Sum: 0.01647646249054535\n",
            "Error in Right Riemann Sum: 0.01647646249054535\n",
            "Error in Midpoint Rule: 0.008248407907974098\n"
          ]
        }
      ]
    },
    {
      "cell_type": "markdown",
      "source": [
        "The error in the Left Riemann Sum and Right Riemann Sum is 0.0165, indicating a slight underestimation of the integral.\n",
        "\n",
        "The Midpoint Rule yields an approximation closer to the exact value, with an error of 0.0082, showcasing its higher accuracy for this function over the given interval."
      ],
      "metadata": {
        "id": "11ccnqsnGT-U"
      }
    },
    {
      "cell_type": "markdown",
      "source": [
        "### Trapezoid Rule"
      ],
      "metadata": {
        "id": "ctYXpwQHDKYL"
      }
    },
    {
      "cell_type": "markdown",
      "source": [
        "The Trapezoid Rule is a numerical method used to approximate the integral of a function over a certain interval by summing the areas of trapezoids formed under the curve of the function. For each subinterval, a trapezoid is constructed with its corners at points $(x_i,0),(x_{i+1},0),(x_i,f(x_i)),(x_{i+1},f(x_{i+1}))$. The area of each trapezoid is calculated as $\\frac{h}{2} (f(x_i)+f(x_{i+1}))$, where h is the width of the subinterval. The total area under the curve is approximated by summing the areas of these trapezoids.\n",
        "\n",
        "This method can lead to a more efficient calculation by recognizing that each function value at the intermediate points of the subdivision is counted twice, except for the first and last points. Thus, a simplified formula for the Trapezoid Rule is $\\frac{h}{2} (f(x_0)+ 2\\sum_{i=1}^{n-1}f(x_i)+f(x_{n}))$.\n",
        "\n",
        "To assess the accuracy of the Trapezoid Rule, the Taylor series expansion is used around the midpoint of each subinterval. This analysis reveals that the Trapezoid Rule approximation has an error term of $O(h^3)$ for each subinterval, leading to an overall error of $O(h^2)$ over the entire interval. This makes the Trapezoid Rule a more accurate approximation method compared to methods with higher error orders."
      ],
      "metadata": {
        "id": "VZYAK3SZDPRb"
      }
    },
    {
      "cell_type": "code",
      "source": [
        "import numpy as np\n",
        "\n",
        "# Define the function to be integrated\n",
        "f = lambda x: np.sin(x)\n",
        "\n",
        "# Define the interval [a, b] and number of points\n",
        "a, b = 0, np.pi\n",
        "n = 11  # Including both endpoints\n",
        "h = (b - a) / (n - 1)  # Step size\n",
        "\n",
        "# Generate the grid points\n",
        "x = np.linspace(a, b, n)\n",
        "\n",
        "# Apply the Trapezoid Rule\n",
        "I_trap = (h / 2) * (f(x[0]) + 2 * np.sum(f(x[1:-1])) + f(x[-1]))\n",
        "\n",
        "# Exact value of the integral\n",
        "exact_value = 2\n",
        "\n",
        "# Calculate the error\n",
        "error = exact_value - I_trap\n",
        "\n",
        "# Display the results\n",
        "print(f\"Trapezoid Rule Approximation: {I_trap}\")\n",
        "print(f\"Exact Value: {exact_value}\")\n",
        "print(f\"Error: {error}\")\n",
        "\n"
      ],
      "metadata": {
        "colab": {
          "base_uri": "https://localhost:8080/"
        },
        "id": "xW_EJqd5IqTe",
        "outputId": "ec1a3f98-dfaa-4d7f-fbe7-54079ed0fd5a"
      },
      "execution_count": null,
      "outputs": [
        {
          "output_type": "stream",
          "name": "stdout",
          "text": [
            "Trapezoid Rule Approximation: 1.9835235375094546\n",
            "Exact Value: 2\n",
            "Error: 0.01647646249054535\n"
          ]
        }
      ]
    },
    {
      "cell_type": "markdown",
      "source": [
        "This method approximates the area under the curve by dividing it into trapezoids rather than rectangles. The approximation for the given function $f(x)=sin(x)$ over the interval $[0,π]$ with 50 subintervals is approximately 1.9993, which is very close to the exact integral value of 2."
      ],
      "metadata": {
        "id": "hA-aLN-LFbf3"
      }
    },
    {
      "cell_type": "code",
      "source": [
        "# Contrast with Simpson's Rule\n",
        "import numpy as np\n",
        "\n",
        "# Define the function to integrate\n",
        "f = lambda x: np.sin(x)\n",
        "\n",
        "# Integration interval\n",
        "a, b = 0, np.pi\n",
        "\n",
        "# Number of subintervals\n",
        "n = 50\n",
        "h = (b - a) / n\n",
        "\n",
        "# Discretize the interval\n",
        "x = np.linspace(a, b, n+1)\n",
        "\n",
        "# Trapezoidal Rule\n",
        "trapezoidal_sum = h * (0.5*f(x[0]) + np.sum(f(x[1:n])) + 0.5*f(x[n]))\n",
        "\n",
        "# Simpson's Rule\n",
        "simpsons_sum = (h/3) * (f(x[0]) + 2*np.sum(f(x[2:n-1:2])) + 4*np.sum(f(x[1:n:2])) + f(x[n]))\n",
        "\n",
        "print(f\"Trapezoidal Rule Approximation: {trapezoidal_sum}\")\n",
        "print(f\"Simpson's Rule Approximation: {simpsons_sum}\")\n",
        "\n"
      ],
      "metadata": {
        "colab": {
          "base_uri": "https://localhost:8080/"
        },
        "id": "LhXHv9raFjDD",
        "outputId": "640532c2-f519-471e-be38-42f85aa73b20"
      },
      "execution_count": null,
      "outputs": [
        {
          "output_type": "stream",
          "name": "stdout",
          "text": [
            "Trapezoidal Rule Approximation: 1.9993419830762613\n",
            "Simpson's Rule Approximation: 2.000000173253139\n"
          ]
        }
      ]
    },
    {
      "cell_type": "markdown",
      "source": [
        "Simpson's Rule offers a more accurate approximation by using parabolas to approximate sections of the curve. For the same function and interval, and using the same number of subintervals, Simpson's Rule yields an approximation of approximately 2.0000, which is even closer to the exact integral value."
      ],
      "metadata": {
        "id": "yrOaZuq4F2t1"
      }
    }
  ]
}