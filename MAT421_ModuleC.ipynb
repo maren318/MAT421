{
  "nbformat": 4,
  "nbformat_minor": 0,
  "metadata": {
    "colab": {
      "provenance": [],
      "authorship_tag": "ABX9TyOCcQVaFFvpEfQzJajsN3hi",
      "include_colab_link": true
    },
    "kernelspec": {
      "name": "python3",
      "display_name": "Python 3"
    },
    "language_info": {
      "name": "python"
    }
  },
  "cells": [
    {
      "cell_type": "markdown",
      "metadata": {
        "id": "view-in-github",
        "colab_type": "text"
      },
      "source": [
        "<a href=\"https://colab.research.google.com/github/maren318/MAT421_Fenglin/blob/main/MAT421_ModuleC.ipynb\" target=\"_parent\"><img src=\"https://colab.research.google.com/assets/colab-badge.svg\" alt=\"Open In Colab\"/></a>"
      ]
    },
    {
      "cell_type": "markdown",
      "source": [
        "## Root Finding Problem Statement"
      ],
      "metadata": {
        "id": "F_1HrCV4G094"
      }
    },
    {
      "cell_type": "markdown",
      "source": [
        "The root or zero of a function, $f(x)$, is an $x_r$ such that $f(x_r)=0$\n",
        "."
      ],
      "metadata": {
        "id": "RWqauZyBHgLq"
      }
    },
    {
      "cell_type": "code",
      "execution_count": null,
      "metadata": {
        "colab": {
          "base_uri": "https://localhost:8080/"
        },
        "id": "1jrLM_MFA2ep",
        "outputId": "a60ffc3d-d354-404c-e5a0-de0b5cb6de24"
      },
      "outputs": [
        {
          "output_type": "stream",
          "name": "stdout",
          "text": [
            "Root near -2: [0.73908513]\n",
            "Verification (f(root)): [0.]\n",
            "\n",
            "Attempted root for g(x) = 1/x: [-3.52047359e+83]\n",
            "Result of g(root): [-2.84052692e-84]\n",
            "Message: The number of calls to function has reached maxfev = 400.\n"
          ]
        }
      ],
      "source": [
        "from scipy.optimize import fsolve\n",
        "import numpy as np\n",
        "\n",
        "# Define the function f(x) = cos(x) - x\n",
        "f = lambda x: np.cos(x) - x\n",
        "\n",
        "# Compute the root of f(x) near -2\n",
        "root = fsolve(f, -2)\n",
        "print(\"Root near -2:\", root)\n",
        "\n",
        "# Verify the solution is a root\n",
        "verification_result = f(root)\n",
        "print(\"Verification (f(root)):\", verification_result)\n",
        "\n",
        "# Define a function g(x) = 1/x, which has no root\n",
        "g = lambda x: 1 / x\n",
        "\n",
        "# Attempt to find a root for g(x)\n",
        "root_no_solution, info, ier, mesg = fsolve(g, -2, full_output=True)\n",
        "print(\"\\nAttempted root for g(x) = 1/x:\", root_no_solution)\n",
        "print(\"Result of g(root):\", g(root_no_solution))\n",
        "print(\"Message:\", mesg)\n"
      ]
    },
    {
      "cell_type": "markdown",
      "source": [
        "## Tolerance"
      ],
      "metadata": {
        "id": "MR5mOJJ4J2wM"
      }
    },
    {
      "cell_type": "markdown",
      "source": [
        "#### Error Measured by $|f(x)|$\n",
        "Function: $f(x)=x^2+\\frac{tol}{2}$\n",
        "\n",
        "For this function, even though it has no real roots, the error at $x=0$ is $\\frac{tol}{2}$. Since this error is within the specified tolerance, $x=0$ is acceptable as a solution for a root-finding program.\n",
        "\n",
        "\n",
        "#### Error Measured by $|x_{i+1} - x_i|$\n",
        "\n",
        "Function: $f(x)=\\frac{1}{x}$\n",
        "\n",
        "This function also has no real roots. However, if we choose $x_i=-\\frac{tol}{4}$ and $x_{i+1} = \\frac{tol}{4}$, the error is $\\frac{tol}{2}$. This is within the tolerance, and so these guesses can be considered an acceptable solution for a computer program."
      ],
      "metadata": {
        "id": "OceGt27GJ3LQ"
      }
    },
    {
      "cell_type": "markdown",
      "source": [
        "## Bisection Method"
      ],
      "metadata": {
        "id": "tY8e1EGSLEmX"
      }
    },
    {
      "cell_type": "markdown",
      "source": [
        "Root Finding with Bisection Method: It finds an approximation of the square root of 2 ($f(x) = x^2 - 2$) to within given tolerances (0.1 and 0.01), starting with intervals [0, 2]."
      ],
      "metadata": {
        "id": "pc6IVg3vLFUZ"
      }
    },
    {
      "cell_type": "code",
      "source": [
        "import numpy as np\n",
        "\n",
        "def my_bisection(f, a, b, tol):\n",
        "    # Check if a and b bound a root\n",
        "    if np.sign(f(a)) == np.sign(f(b)):\n",
        "        raise Exception(\"The scalars a and b do not bound a root\")\n",
        "\n",
        "    # Calculate midpoint\n",
        "    m = (a + b) / 2\n",
        "\n",
        "    # Check if midpoint is close enough to root\n",
        "    if np.abs(f(m)) < tol:\n",
        "        return m\n",
        "    elif np.sign(f(a)) == np.sign(f(m)):\n",
        "        # m is an improvement on a\n",
        "        return my_bisection(f, m, b, tol)\n",
        "    else:\n",
        "        # m is an improvement on b\n",
        "        return my_bisection(f, a, m, tol)\n",
        "\n",
        "# Define the function f(x) = x^2 - 2\n",
        "f = lambda x: x**2 - 2\n",
        "\n",
        "# Approximate the square root of 2 to different tolerances\n",
        "root_approx_0_1 = my_bisection(f, 0, 2, 0.1)\n",
        "root_approx_0_01 = my_bisection(f, 0, 2, 0.01)\n",
        "\n",
        "print(\"Approximation of square root of 2 with tol=0.1:\", root_approx_0_1)\n",
        "print(\"Approximation of square root of 2 with tol=0.01:\", root_approx_0_01)\n",
        "\n",
        "# Verify the results\n",
        "print(\"f(root_approx_0_1) =\", f(root_approx_0_1))\n",
        "print(\"f(root_approx_0_01) =\", f(root_approx_0_01))\n",
        "\n",
        "# Test with a = 2 and b = 4\n",
        "try:\n",
        "    my_bisection(f, 2, 4, 0.01)\n",
        "except Exception as e:\n",
        "    print(\"Error:\", e)\n"
      ],
      "metadata": {
        "colab": {
          "base_uri": "https://localhost:8080/"
        },
        "id": "OjBx4V2xJ3sP",
        "outputId": "47c1e904-3beb-4ae3-c430-63b3db72a20d"
      },
      "execution_count": null,
      "outputs": [
        {
          "output_type": "stream",
          "name": "stdout",
          "text": [
            "Approximation of square root of 2 with tol=0.1: 1.4375\n",
            "Approximation of square root of 2 with tol=0.01: 1.4140625\n",
            "f(root_approx_0_1) = 0.06640625\n",
            "f(root_approx_0_01) = -0.00042724609375\n",
            "Error: The scalars a and b do not bound a root\n"
          ]
        }
      ]
    },
    {
      "cell_type": "code",
      "source": [
        "my_bisection(f, 2, 4, 0.01)"
      ],
      "metadata": {
        "colab": {
          "base_uri": "https://localhost:8080/",
          "height": 306
        },
        "id": "j1k8n8jiQVPM",
        "outputId": "1e7cce0c-b147-496e-8d07-479a245126d7"
      },
      "execution_count": null,
      "outputs": [
        {
          "output_type": "error",
          "ename": "Exception",
          "evalue": "The scalars a and b do not bound a root",
          "traceback": [
            "\u001b[0;31m---------------------------------------------------------------------------\u001b[0m",
            "\u001b[0;31mException\u001b[0m                                 Traceback (most recent call last)",
            "\u001b[0;32m<ipython-input-3-4158b7a9ae67>\u001b[0m in \u001b[0;36m<cell line: 1>\u001b[0;34m()\u001b[0m\n\u001b[0;32m----> 1\u001b[0;31m \u001b[0mmy_bisection\u001b[0m\u001b[0;34m(\u001b[0m\u001b[0mf\u001b[0m\u001b[0;34m,\u001b[0m \u001b[0;36m2\u001b[0m\u001b[0;34m,\u001b[0m \u001b[0;36m4\u001b[0m\u001b[0;34m,\u001b[0m \u001b[0;36m0.01\u001b[0m\u001b[0;34m)\u001b[0m\u001b[0;34m\u001b[0m\u001b[0;34m\u001b[0m\u001b[0m\n\u001b[0m",
            "\u001b[0;32m<ipython-input-2-a04a2af0e9c5>\u001b[0m in \u001b[0;36mmy_bisection\u001b[0;34m(f, a, b, tol)\u001b[0m\n\u001b[1;32m      4\u001b[0m     \u001b[0;31m# Check if a and b bound a root\u001b[0m\u001b[0;34m\u001b[0m\u001b[0;34m\u001b[0m\u001b[0m\n\u001b[1;32m      5\u001b[0m     \u001b[0;32mif\u001b[0m \u001b[0mnp\u001b[0m\u001b[0;34m.\u001b[0m\u001b[0msign\u001b[0m\u001b[0;34m(\u001b[0m\u001b[0mf\u001b[0m\u001b[0;34m(\u001b[0m\u001b[0ma\u001b[0m\u001b[0;34m)\u001b[0m\u001b[0;34m)\u001b[0m \u001b[0;34m==\u001b[0m \u001b[0mnp\u001b[0m\u001b[0;34m.\u001b[0m\u001b[0msign\u001b[0m\u001b[0;34m(\u001b[0m\u001b[0mf\u001b[0m\u001b[0;34m(\u001b[0m\u001b[0mb\u001b[0m\u001b[0;34m)\u001b[0m\u001b[0;34m)\u001b[0m\u001b[0;34m:\u001b[0m\u001b[0;34m\u001b[0m\u001b[0;34m\u001b[0m\u001b[0m\n\u001b[0;32m----> 6\u001b[0;31m         \u001b[0;32mraise\u001b[0m \u001b[0mException\u001b[0m\u001b[0;34m(\u001b[0m\u001b[0;34m\"The scalars a and b do not bound a root\"\u001b[0m\u001b[0;34m)\u001b[0m\u001b[0;34m\u001b[0m\u001b[0;34m\u001b[0m\u001b[0m\n\u001b[0m\u001b[1;32m      7\u001b[0m \u001b[0;34m\u001b[0m\u001b[0m\n\u001b[1;32m      8\u001b[0m     \u001b[0;31m# Calculate midpoint\u001b[0m\u001b[0;34m\u001b[0m\u001b[0;34m\u001b[0m\u001b[0m\n",
            "\u001b[0;31mException\u001b[0m: The scalars a and b do not bound a root"
          ]
        }
      ]
    },
    {
      "cell_type": "markdown",
      "source": [
        "## Newton-Raphson Method"
      ],
      "metadata": {
        "id": "SJR2WBxmRdj1"
      }
    },
    {
      "cell_type": "markdown",
      "source": [
        "Newton steps are iterated from x0 in the Newton-Raphson method of discovering roots until the error is smaller than the tolerance. The formula for Newton steps is $x_i=x_{i+1}-\\frac{g(x_{i-1})}{g'(x_{i-1})}$."
      ],
      "metadata": {
        "id": "REtMlsntRiqI"
      }
    },
    {
      "cell_type": "code",
      "source": [
        "import numpy as np\n",
        "\n",
        "# Define the function and its derivative for the Newton-Raphson method\n",
        "f = lambda x: x**2 - 2\n",
        "f_prime = lambda x: 2*x\n",
        "\n",
        "# Starting point and tolerance\n",
        "x0 = 1.4\n",
        "tol = 1e-6\n",
        "\n",
        "# Newton-Raphson method implementation\n",
        "def my_newton(f, df, x0, tol):\n",
        "    if abs(f(x0)) < tol:\n",
        "        return x0\n",
        "    else:\n",
        "        return my_newton(f, df, x0 - f(x0)/df(x0), tol)\n",
        "\n",
        "# Estimate the square root of 2\n",
        "sqrt_2_estimate = my_newton(f, f_prime, x0, tol)\n",
        "print(\"Newton-Raphson estimate of sqrt(2):\", sqrt_2_estimate)\n",
        "print(\"Actual value of sqrt(2):\", np.sqrt(2))\n",
        "\n",
        "# Improved approximation for the function f(x) = x^3 + 3x^2 - 2x - 5\n",
        "g = lambda x: x**3 + 3*x**2 - 2*x - 5\n",
        "g_prime = lambda x: 3*x**2 + 6*x - 2\n",
        "x0_g = 0.29\n",
        "x1_g = x0_g - g(x0_g)/g_prime(x0_g)\n",
        "print(\"\\nImproved approximation of root for g(x):\", x1_g)\n",
        "\n",
        "# Polynomial with roots at x = 1 and x = 100\n",
        "h = lambda x: x**3 - 100*x^2 - x + 100\n",
        "h_prime = lambda x: 3*x^2 - 200*x - 1\n",
        "x0_h = 0\n",
        "x1_h = x0_h - h(x0_h)/h_prime(x0_h)\n",
        "print(\"\\nNewton-Raphson approximation of root for h(x) starting at x0=0:\", x1_h)\n"
      ],
      "metadata": {
        "colab": {
          "base_uri": "https://localhost:8080/"
        },
        "id": "Jh1QF-6bSi6A",
        "outputId": "37d2b275-f63a-4ba5-ac75-29a41d7400c9"
      },
      "execution_count": null,
      "outputs": [
        {
          "output_type": "stream",
          "name": "stdout",
          "text": [
            "Newton-Raphson estimate of sqrt(2): 1.4142135642135643\n",
            "Actual value of sqrt(2): 1.4142135623730951\n",
            "\n",
            "Improved approximation of root for g(x): -688.4516883116648\n",
            "\n",
            "Newton-Raphson approximation of root for h(x) starting at x0=0: -102.0\n"
          ]
        }
      ]
    },
    {
      "cell_type": "markdown",
      "source": [
        "## Root Finding in Python"
      ],
      "metadata": {
        "id": "60qhEupeeYfJ"
      }
    },
    {
      "cell_type": "markdown",
      "source": [
        "When utilizing many, intricate functions and operations, Python's built-in root-finding capabilities can be used to optimize code.\n",
        "\n"
      ],
      "metadata": {
        "id": "j06bbO88efMT"
      }
    },
    {
      "cell_type": "code",
      "source": [
        "from scipy.optimize import fsolve\n",
        "\n",
        "# Define the function for which we want to find roots\n",
        "f = lambda x: x**3 - 100*x**2 - x + 100\n",
        "\n",
        "# Compute the roots of f(x) using fsolve\n",
        "roots = fsolve(f, [2, 80])\n",
        "\n",
        "print(\"Roots of the function f(x) = x^3 - 100x^2 - x + 100:\", roots)\n"
      ],
      "metadata": {
        "colab": {
          "base_uri": "https://localhost:8080/"
        },
        "id": "XSYzNZmZeY3l",
        "outputId": "7fdb6fa5-8831-4a4c-b7da-38244319295a"
      },
      "execution_count": null,
      "outputs": [
        {
          "output_type": "stream",
          "name": "stdout",
          "text": [
            "Roots of the function f(x) = x^3 - 100x^2 - x + 100: [  1. 100.]\n"
          ]
        }
      ]
    }
  ]
}