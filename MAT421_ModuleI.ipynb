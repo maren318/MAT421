{
  "nbformat": 4,
  "nbformat_minor": 0,
  "metadata": {
    "colab": {
      "provenance": [],
      "authorship_tag": "ABX9TyP3f5pl3z3oldm9LnvpXMtn",
      "include_colab_link": true
    },
    "kernelspec": {
      "name": "python3",
      "display_name": "Python 3"
    },
    "language_info": {
      "name": "python"
    }
  },
  "cells": [
    {
      "cell_type": "markdown",
      "metadata": {
        "id": "view-in-github",
        "colab_type": "text"
      },
      "source": [
        "<a href=\"https://colab.research.google.com/github/maren318/MAT421_Fenglin/blob/main/MAT421_ModuleI.ipynb\" target=\"_parent\"><img src=\"https://colab.research.google.com/assets/colab-badge.svg\" alt=\"Open In Colab\"/></a>"
      ]
    },
    {
      "cell_type": "markdown",
      "source": [
        "Condition Probability: The probability of an event occurring given that another event has already occurred.\n",
        "\n",
        "Binomial Probability Distribution Function (PDF): A discrete distribution representing the probability of a fixed number of successes in a fixed number of Bernoulli trials.\n",
        "\n",
        "Poisson Distribution: A discrete frequency distribution that expresses the probability of a given number of events occurring in a fixed interval of time or space.\n",
        "\n",
        "Expected Value: The long-run average value of repetitions of the experiment it represents.\n",
        "\n",
        "Variance: A measure of the dispersion of a set of data points around their mean value.\n",
        "\n",
        "Normal Distribution: A continuous probability distribution characterized by a symmetric, bell-shaped curve described by its mean and standard deviation.\n",
        "\n",
        "Expected Value and Variance of Continuous Random Variables: The mean of the distribution representing the average outcome and the measure of the spread of the distribution, respectively, for continuous random variables.\n",
        "\n",
        "Joint Probability Distribution: The probability distribution of two or more random variables occurring simultaneously.\n",
        "\n",
        "Covariance: A measure of how much two random variables change together, indicating the direction of the linear relationship between variables.\n",
        "\n",
        "Correlation: A statistical measure that expresses the extent to which two variables change together, ranging from -1 to 1.\n",
        "\n",
        "Sample Mean and Covariance: The average of a sample and a measure of how two variables in the sample vary together.\n",
        "\n",
        "Central Limit Theorem: States that the sampling distribution of the sample means approaches a normal distribution as the sample size gets larger, regardless of the shape of the population distribution.\n",
        "\n",
        "\n",
        "\n",
        "\n"
      ],
      "metadata": {
        "id": "lq2OIlndekUC"
      }
    },
    {
      "cell_type": "code",
      "execution_count": 1,
      "metadata": {
        "colab": {
          "base_uri": "https://localhost:8080/"
        },
        "id": "10y8_Fd_ecxm",
        "outputId": "19a30f4b-b5d0-46e7-953e-179662a4ce9d"
      },
      "outputs": [
        {
          "output_type": "execute_result",
          "data": {
            "text/plain": [
              "(array([ 0,  1,  2,  3,  4,  5,  6,  7,  8,  9, 10]),\n",
              " array([0.00097656, 0.00976563, 0.04394531, 0.1171875 , 0.20507812,\n",
              "        0.24609375, 0.20507812, 0.1171875 , 0.04394531, 0.00976563,\n",
              "        0.00097656]))"
            ]
          },
          "metadata": {},
          "execution_count": 1
        }
      ],
      "source": [
        "from scipy.stats import binom\n",
        "import numpy as np\n",
        "\n",
        "# Binomial distribution parameters\n",
        "n = 10  # number of trials\n",
        "p = 0.5  # probability of success on each trial\n",
        "\n",
        "# Possible number of successes\n",
        "k = np.arange(0, n+1)\n",
        "\n",
        "# PMF for each number of successes\n",
        "pmf = binom.pmf(k, n, p)\n",
        "\n",
        "# Results\n",
        "k, pmf\n"
      ]
    },
    {
      "cell_type": "code",
      "source": [
        "from scipy.stats import poisson\n",
        "\n",
        "# Poisson distribution parameters\n",
        "lambda_ = 3  # average rate (lambda)\n",
        "\n",
        "# Possible number of occurrences\n",
        "k = np.arange(0, 10+1)\n",
        "\n",
        "# PMF for each number of occurrences\n",
        "pmf = poisson.pmf(k, lambda_)\n",
        "\n",
        "# Results\n",
        "k, pmf\n"
      ],
      "metadata": {
        "colab": {
          "base_uri": "https://localhost:8080/"
        },
        "id": "9nSawlCFggiH",
        "outputId": "9452ccd5-9f80-40b4-8cd6-196f40e1e567"
      },
      "execution_count": 2,
      "outputs": [
        {
          "output_type": "execute_result",
          "data": {
            "text/plain": [
              "(array([ 0,  1,  2,  3,  4,  5,  6,  7,  8,  9, 10]),\n",
              " array([0.04978707, 0.14936121, 0.22404181, 0.22404181, 0.16803136,\n",
              "        0.10081881, 0.05040941, 0.02160403, 0.00810151, 0.0027005 ,\n",
              "        0.00081015]))"
            ]
          },
          "metadata": {},
          "execution_count": 2
        }
      ]
    },
    {
      "cell_type": "code",
      "source": [
        "# Random variable outcomes and their probabilities\n",
        "outcomes = np.array([0, 1, 2, 3, 4, 5])\n",
        "probabilities = np.array([0.1, 0.1, 0.2, 0.2, 0.3, 0.1])\n",
        "\n",
        "# Expected value (mean)\n",
        "expected_value = np.sum(outcomes * probabilities)\n",
        "\n",
        "# Variance\n",
        "variance = np.sum((outcomes - expected_value) ** 2 * probabilities)\n",
        "\n",
        "expected_value, variance\n"
      ],
      "metadata": {
        "colab": {
          "base_uri": "https://localhost:8080/"
        },
        "id": "SygACO1TgnAi",
        "outputId": "da549c7c-7b94-4111-87af-c19348adecb2"
      },
      "execution_count": 3,
      "outputs": [
        {
          "output_type": "execute_result",
          "data": {
            "text/plain": [
              "(2.8, 2.16)"
            ]
          },
          "metadata": {},
          "execution_count": 3
        }
      ]
    },
    {
      "cell_type": "code",
      "source": [
        "from scipy.stats import norm\n",
        "\n",
        "# Normal distribution parameters\n",
        "mu = 0  # mean\n",
        "sigma = 1  # standard deviation\n",
        "\n",
        "# Points at which to evaluate the PDF\n",
        "x = np.linspace(-3, 3, 100)\n",
        "\n",
        "# PDF for the normal distribution\n",
        "pdf = norm.pdf(x, mu, sigma)\n",
        "\n",
        "# Results (just showing the shape as the data is too long to display fully)\n",
        "x.shape, pdf.shape\n"
      ],
      "metadata": {
        "colab": {
          "base_uri": "https://localhost:8080/"
        },
        "id": "ek73oXXag1z6",
        "outputId": "2647399c-387d-4c04-8c89-dcf48dd6c3ea"
      },
      "execution_count": 4,
      "outputs": [
        {
          "output_type": "execute_result",
          "data": {
            "text/plain": [
              "((100,), (100,))"
            ]
          },
          "metadata": {},
          "execution_count": 4
        }
      ]
    },
    {
      "cell_type": "code",
      "source": [
        "# Generating two datasets\n",
        "np.random.seed(0)  # For reproducibility\n",
        "data1 = np.random.normal(0, 1, 1000)\n",
        "data2 = data1 * 0.5 + np.random.normal(0, 1, 1000) * 0.5\n",
        "\n",
        "# Covariance matrix\n",
        "covariance_matrix = np.cov(data1, data2)\n",
        "\n",
        "# Pearson correlation coefficient\n",
        "correlation_coefficient = np.corrcoef(data1, data2)\n",
        "\n",
        "covariance_matrix, correlation_coefficient\n"
      ],
      "metadata": {
        "colab": {
          "base_uri": "https://localhost:8080/"
        },
        "id": "1IeJFrM5g8O0",
        "outputId": "4d594bd4-07df-4436-cb28-142bc8115580"
      },
      "execution_count": 5,
      "outputs": [
        {
          "output_type": "execute_result",
          "data": {
            "text/plain": [
              "(array([[0.97520967, 0.47253501],\n",
              "        [0.47253501, 0.4633006 ]]),\n",
              " array([[1.        , 0.70299715],\n",
              "        [0.70299715, 1.        ]]))"
            ]
          },
          "metadata": {},
          "execution_count": 5
        }
      ]
    },
    {
      "cell_type": "code",
      "source": [
        "# Simulating the Central Limit Theorem\n",
        "sample_means = []\n",
        "number_of_samples = 1000\n",
        "sample_size = 30\n",
        "\n",
        "# Drawing samples and computing their means\n",
        "for _ in range(number_of_samples):\n",
        "    sample = np.random.uniform(low=0, high=1, size=sample_size)\n",
        "    sample_means.append(np.mean(sample))\n",
        "\n",
        "# Computing the mean and standard deviation of the sample means\n",
        "sample_means_mean = np.mean(sample_means)\n",
        "sample_means_std = np.std(sample_means)\n",
        "\n",
        "sample_means_mean, sample_means_std, np.min(sample_means), np.max(sample_means)\n"
      ],
      "metadata": {
        "colab": {
          "base_uri": "https://localhost:8080/"
        },
        "id": "DO7Odk2xhBvo",
        "outputId": "a7d87501-05bd-470f-edaa-ac9abbd9edec"
      },
      "execution_count": 6,
      "outputs": [
        {
          "output_type": "execute_result",
          "data": {
            "text/plain": [
              "(0.4966662054302367,\n",
              " 0.05342276781818155,\n",
              " 0.28220132503613976,\n",
              " 0.647182525726342)"
            ]
          },
          "metadata": {},
          "execution_count": 6
        }
      ]
    },
    {
      "cell_type": "code",
      "source": [
        "import numpy as np\n",
        "import matplotlib.pyplot as plt\n",
        "# Create a data matrix\n",
        "x_nonlinear = np.linspace(-10,10,100)\n",
        "x_nonlinear = np.vstack((x_nonlinear,x_nonlinear*x_nonlinear))\n",
        "x_nonlinear = np.vstack((x_nonlinear,-x_nonlinear[0,]**2))\n",
        "x_nonlinear = np.vstack((x_nonlinear,x_nonlinear[0,]**4))\n",
        "x_nonlinear = np.vstack((x_nonlinear,np.log(x_nonlinear[0,]**2+1)))\n",
        "x_nonlinear = np.vstack((x_nonlinear,np.exp(x_nonlinear[0,])))\n",
        "# Compute the correlation\n",
        "rho_nonlinear = np.corrcoef(x_nonlinear)\n",
        "# Plot the data\n",
        "fig, ax = plt.subplots(nrows=1, ncols=5, figsize=(16, 3))\n",
        "title = ['$y=x^2$','$y=-x^2$','$y=x^4$','$y=\\log(x^2+1)$','$y=\\exp(x)$']\n",
        "for i in [0,1,2,3,4]:\n",
        "  ax[i].scatter(x_nonlinear[0,],x_nonlinear[1+i,],color='cyan')\n",
        "  ax[i].title.set_text(title[i] + '\\n' + 'Correlation = ' + \"{:.2f}\".format(rho_nonlinear[0,i+1]))\n",
        "  ax[i].set(xlabel='x',ylabel='y')\n",
        "fig.subplots_adjust(wspace=.4)\n",
        "plt.show()"
      ],
      "metadata": {
        "colab": {
          "base_uri": "https://localhost:8080/",
          "height": 360
        },
        "id": "_Oe9SZJjhFCP",
        "outputId": "46dd0c4c-e216-433a-93e8-7bf1f2b2624e"
      },
      "execution_count": 7,
      "outputs": [
        {
          "output_type": "display_data",
          "data": {
            "text/plain": [
              "<Figure size 1600x300 with 5 Axes>"
            ],
            "image/png": "[encoded data removed]"
          },
          "metadata": {}
        }
      ]
    }
  ]
}